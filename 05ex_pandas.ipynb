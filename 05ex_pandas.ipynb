{
 "cells": [
  {
   "cell_type": "code",
   "execution_count": 1,
   "metadata": {},
   "outputs": [],
   "source": [
    "import pandas as pd\n",
    "import numpy as np\n",
    "import datetime as dt\n",
    "import matplotlib.pyplot as plt"
   ]
  },
  {
   "cell_type": "markdown",
   "metadata": {},
   "source": [
    "1\\. **Pandas DataFrame**\n",
    "\n",
    "This exercise consists in analyzing a dataset containg timing information from a series of Time-to-Digital-Converters (TDC) implemented in a pair of FPGAs. Each measurement (i.e. each row of the input file) consists of a flag that specifies the type of message ('HEAD', which in this case is always 1), two addresses of the TDC providing the signal ('FPGA' and 'TDC_CHANNEL'), and the timing information ('ORBIT_CNT', 'BX_COUNTER', and 'TDC_MEAS'). Each TDC count corresponds to 25/30 ns, whereas a unit of BX_COUNTER corresponds to 25 ns, and the ORBIT_CNT is increased every `x` BX_COUNTER. This allows to store the time in a similar way to hours, minutes and seconds."
   ]
  },
  {
   "cell_type": "code",
   "execution_count": 2,
   "metadata": {},
   "outputs": [],
   "source": [
    "# If haven't downloaded it yet, please get the data file with wget\n",
    "#!wget https://www.dropbox.com/s/xvjzaxzz3ysphme/data_000637.txt -P ./data/"
   ]
  },
  {
   "cell_type": "markdown",
   "metadata": {},
   "source": [
    "1\\. Create a Pandas DataFrame reading N rows of the `data/data_000637.txt` dataset. Choose N to be smaller than or equal to the maximum number of rows and larger that 10k (check the documentation)."
   ]
  },
  {
   "cell_type": "code",
   "execution_count": 12,
   "metadata": {},
   "outputs": [
    {
     "name": "stdout",
     "output_type": "stream",
     "text": [
      "       HEAD  FPGA  TDC_CHANNEL   ORBIT_CNT  BX_COUNTER  TDC_MEAS\n",
      "0         1     0          123  3869200167        2374        26\n",
      "1         1     0          124  3869200167        2374        27\n",
      "2         1     0           63  3869200167        2553        28\n",
      "3         1     0           64  3869200167        2558        19\n",
      "4         1     0           64  3869200167        2760        25\n",
      "...     ...   ...          ...         ...         ...       ...\n",
      "14995     1     1            4  3869200316        3399         9\n",
      "14996     1     1           17  3869200316        3400        15\n",
      "14997     1     1           10  3869200316        3530        16\n",
      "14998     1     1            8  3869200316        3533        18\n",
      "14999     1     0          139  3869200316        3539         0\n",
      "\n",
      "[15000 rows x 6 columns]\n"
     ]
    }
   ],
   "source": [
    "d = pd.read_csv('data_000637.txt')\n",
    "N = 15000\n",
    "df = pd.DataFrame(d, index=range(N))\n",
    "print(df)"
   ]
  },
  {
   "cell_type": "markdown",
   "metadata": {},
   "source": [
    "2\\. Estimate the number of BX in a ORBIT (the value `x`).\n",
    "\n",
    "*Hint*: check when the BX counter reaches the maximum value before being reset to 0."
   ]
  },
  {
   "cell_type": "code",
   "execution_count": 4,
   "metadata": {},
   "outputs": [
    {
     "name": "stdout",
     "output_type": "stream",
     "text": [
      "3039.3197674418607\n"
     ]
    }
   ],
   "source": [
    "#Find where the values changes\n",
    "orbit_change = df[\"ORBIT_CNT\"] != df[\"ORBIT_CNT\"].shift(periods=-1)\n",
    "#Compute the mean\n",
    "df_mean = df[orbit_change].BX_COUNTER.mean()\n",
    "print(df_mean)"
   ]
  },
  {
   "cell_type": "markdown",
   "metadata": {},
   "source": [
    "3\\. Create a new column with the absolute time in ns (as a combination of the other three columns with timing information) since the beginning of the data acquisition, and convert the new column to a Time Series."
   ]
  },
  {
   "cell_type": "code",
   "execution_count": 13,
   "metadata": {},
   "outputs": [
    {
     "name": "stdout",
     "output_type": "stream",
     "text": [
      "       HEAD  FPGA  TDC_CHANNEL   ORBIT_CNT  BX_COUNTER  TDC_MEAS  \\\n",
      "0         1     0          123  3869200167        2374        26   \n",
      "1         1     0          124  3869200167        2374        27   \n",
      "2         1     0           63  3869200167        2553        28   \n",
      "3         1     0           64  3869200167        2558        19   \n",
      "4         1     0           64  3869200167        2760        25   \n",
      "...     ...   ...          ...         ...         ...       ...   \n",
      "14995     1     1            4  3869200316        3399         9   \n",
      "14996     1     1           17  3869200316        3400        15   \n",
      "14997     1     1           10  3869200316        3530        16   \n",
      "14998     1     1            8  3869200316        3533        18   \n",
      "14999     1     0          139  3869200316        3539         0   \n",
      "\n",
      "                      ABSOLUTE_TIME  \n",
      "0     1970-01-01 00:00:00.000000000  \n",
      "1     1970-01-01 00:00:00.000000001  \n",
      "2     1970-01-01 00:00:00.000004477  \n",
      "3     1970-01-01 00:00:00.000004593  \n",
      "4     1970-01-01 00:00:00.000009649  \n",
      "...                             ...  \n",
      "14995 1970-01-01 00:00:00.011347074  \n",
      "14996 1970-01-01 00:00:00.011347105  \n",
      "14997 1970-01-01 00:00:00.011350356  \n",
      "14998 1970-01-01 00:00:00.011350433  \n",
      "14999 1970-01-01 00:00:00.011350565  \n",
      "\n",
      "[15000 rows x 7 columns]\n"
     ]
    }
   ],
   "source": [
    "# create a new pd substracting in the ORBIT_CNT column the first row\n",
    "orbit_change = df[\"ORBIT_CNT\"] - df[\"ORBIT_CNT\"].loc[0]\n",
    "\n",
    "#Assume that the beginning of the data acquisition is the first row, so set the time starts at the first row from 0\n",
    "#Compute the absolute number of ns\n",
    "df[\"ABSOLUTE_TIME\"] = orbit_change*df_mean*25 + df[\"BX_COUNTER\"]*25 + df[\"TDC_MEAS\"]\n",
    "df[\"ABSOLUTE_TIME\"] = df[\"ABSOLUTE_TIME\"] - df[\"BX_COUNTER\"].loc[0]*25 - df[\"TDC_MEAS\"].loc[0]\n",
    "\n",
    "#Convert to time series\n",
    "df['ABSOLUTE_TIME'] = pd.to_datetime(df['ABSOLUTE_TIME'], unit='ns')\n",
    "\n",
    "print(df)"
   ]
  },
  {
   "cell_type": "markdown",
   "metadata": {},
   "source": [
    "4\\. Find out the duration of the data taking in hours, minutes and seconds, by using the features of the Time Series. Perform this check reading the whole dataset."
   ]
  },
  {
   "cell_type": "code",
   "execution_count": 6,
   "metadata": {},
   "outputs": [
    {
     "name": "stdout",
     "output_type": "stream",
     "text": [
      "       HEAD  FPGA  TDC_CHANNEL   ORBIT_CNT  BX_COUNTER  TDC_MEAS  \\\n",
      "0         1     0          123  3869200167        2374        26   \n",
      "1         1     0          124  3869200167        2374        27   \n",
      "2         1     0           63  3869200167        2553        28   \n",
      "3         1     0           64  3869200167        2558        19   \n",
      "4         1     0           64  3869200167        2760        25   \n",
      "...     ...   ...          ...         ...         ...       ...   \n",
      "14995     1     1            4  3869200316        3399         9   \n",
      "14996     1     1           17  3869200316        3400        15   \n",
      "14997     1     1           10  3869200316        3530        16   \n",
      "14998     1     1            8  3869200316        3533        18   \n",
      "14999     1     0          139  3869200316        3539         0   \n",
      "\n",
      "                  Time  \n",
      "0             00:00:00  \n",
      "1             00:00:00  \n",
      "2      00:00:00.000004  \n",
      "3      00:00:00.000004  \n",
      "4      00:00:00.000009  \n",
      "...                ...  \n",
      "14995  00:00:00.011347  \n",
      "14996  00:00:00.011347  \n",
      "14997  00:00:00.011350  \n",
      "14998  00:00:00.011350  \n",
      "14999  00:00:00.011350  \n",
      "\n",
      "[15000 rows x 7 columns]\n"
     ]
    }
   ],
   "source": [
    "df['Time'] = pd.to_datetime(df['Time']).dt.time\n",
    "print(df)"
   ]
  },
  {
   "cell_type": "markdown",
   "metadata": {},
   "source": [
    "5\\. Use the `.groupby()` method to find out the noisy channels, i.e. the TDC channels with most counts (print to screen the top 3 and the corresponding counts)"
   ]
  },
  {
   "cell_type": "code",
   "execution_count": 7,
   "metadata": {},
   "outputs": [
    {
     "name": "stdout",
     "output_type": "stream",
     "text": [
      "Int64Index([139, 64, 63], dtype='int64', name='TDC_CHANNEL')\n"
     ]
    }
   ],
   "source": [
    "#create groups using GroupBy\n",
    "g = df.groupby('TDC_CHANNEL')\n",
    "\n",
    "#sorted the groups by number of items (most frequent first)\n",
    "g_Sorted = g.size().sort_values(ascending=False)\n",
    "#print( g.size().sort_values(ascending=False))\n",
    "\n",
    "#take the first three tdc_channel values\n",
    "target_values = g_Sorted.head(3).index\n",
    "print(target_values)"
   ]
  },
  {
   "cell_type": "markdown",
   "metadata": {},
   "source": [
    "6\\. Count the number of non-empty orbits (i.e. the number of orbits with at least one hit)."
   ]
  },
  {
   "cell_type": "code",
   "execution_count": 15,
   "metadata": {},
   "outputs": [
    {
     "name": "stdout",
     "output_type": "stream",
     "text": [
      "149.0\n"
     ]
    }
   ],
   "source": [
    "#print(df.loc[df[\"ORBIT_CNT\"] == float(\"nan\")])\n",
    "orbit_change = df[\"ORBIT_CNT\"] - df[\"ORBIT_CNT\"].shift(periods=-1)\n",
    "#print(orbit_change.loc[orbit_change >= 2])\n",
    "# There are no missing ORBIT_CNT and no ORBIT_CNT has Nan values\n",
    "num = abs(orbit_change.sum())\n",
    "print(num)"
   ]
  },
  {
   "cell_type": "markdown",
   "metadata": {},
   "source": [
    "7\\. Count the number of unique orbits with at least one measurement from TDC_CHANNEL=139."
   ]
  },
  {
   "cell_type": "code",
   "execution_count": 9,
   "metadata": {},
   "outputs": [
    {
     "name": "stdout",
     "output_type": "stream",
     "text": [
      "150\n"
     ]
    }
   ],
   "source": [
    "#fix TDC_CHANNEL=139 and create groups by orbits\n",
    "gk = df.loc[df[\"TDC_CHANNEL\"]==139].groupby(['ORBIT_CNT'])\n",
    "\n",
    "#print the number of the orbits\n",
    "print(len(gk))"
   ]
  },
  {
   "cell_type": "markdown",
   "metadata": {},
   "source": [
    "8\\. Create two Series (one for each FPGA) that have the TDC channel as index, and the number of counts for the corresponding TDC channel as values."
   ]
  },
  {
   "cell_type": "code",
   "execution_count": 10,
   "metadata": {},
   "outputs": [
    {
     "name": "stdout",
     "output_type": "stream",
     "text": [
      "TDC_CHANNEL\n",
      "1        8\n",
      "2       16\n",
      "3       16\n",
      "4       19\n",
      "5       19\n",
      "      ... \n",
      "121     63\n",
      "122     71\n",
      "123    202\n",
      "124    193\n",
      "139    879\n",
      "Length: 117, dtype: int64\n",
      "TDC_CHANNEL\n",
      "1      338\n",
      "2      363\n",
      "3      277\n",
      "4      290\n",
      "5      189\n",
      "      ... \n",
      "125      6\n",
      "126      7\n",
      "127     16\n",
      "128     18\n",
      "139    389\n",
      "Length: 124, dtype: int64\n"
     ]
    }
   ],
   "source": [
    "#create series with FPGA = 0 and set tdc channel as index\n",
    "g1 = df.loc[df[\"FPGA\"] == 0].groupby(['TDC_CHANNEL']).size()\n",
    "\n",
    "#create series with FPGA = 1 and set tdc channel as index\n",
    "g2 = df.loc[df[\"FPGA\"] == 1].groupby(['TDC_CHANNEL']).size()\n",
    "print(g1)\n",
    "print(g2)"
   ]
  },
  {
   "cell_type": "markdown",
   "metadata": {},
   "source": [
    "9\\. **Optional:** Create two histograms (one for each FPGA) that show the number of counts for each TDC channel."
   ]
  },
  {
   "cell_type": "code",
   "execution_count": 17,
   "metadata": {},
   "outputs": [
    {
     "data": {
      "image/png": "[encoded data removed]",
      "text/plain": [
       "<Figure size 800x800 with 1 Axes>"
      ]
     },
     "metadata": {},
     "output_type": "display_data"
    },
    {
     "data": {
      "image/png": "[encoded data removed]",
      "text/plain": [
       "<Figure size 800x800 with 1 Axes>"
      ]
     },
     "metadata": {},
     "output_type": "display_data"
    }
   ],
   "source": [
    "g1 = df.loc[df[\"FPGA\"] == 0]\n",
    "fig1 = plt.figure(num=\"Figure 1\", figsize=(8, 8))\n",
    "plt.hist(g1['TDC_CHANNEL'], bins=25, density=True, cumulative=False, color='coral')\n",
    "plt.title('FPGA 0')\n",
    "plt.xlabel(\"TDC_CHANNEL\")\n",
    "plt.ylabel(\"Occurances\")\n",
    "plt.show()\n",
    "\n",
    "g2 = df.loc[df[\"FPGA\"] == 1]\n",
    "fig2 = plt.figure(num=\"Figure 2\", figsize=(8, 8))\n",
    "plt.hist(g2['TDC_CHANNEL'], bins=25, density=True, cumulative=False, color='teal')\n",
    "plt.title('FPGA 1')\n",
    "plt.xlabel(\"TDC_CHANNEL\")\n",
    "plt.ylabel(\"Occurances\")\n",
    "plt.show()"
   ]
  },
  {
   "cell_type": "code",
   "execution_count": null,
   "metadata": {},
   "outputs": [],
   "source": []
  }
 ],
 "metadata": {
  "kernelspec": {
   "display_name": "Python 3 (ipykernel)",
   "language": "python",
   "name": "python3"
  },
  "language_info": {
   "codemirror_mode": {
    "name": "ipython",
    "version": 3
   },
   "file_extension": ".py",
   "mimetype": "text/x-python",
   "name": "python",
   "nbconvert_exporter": "python",
   "pygments_lexer": "ipython3",
   "version": "3.8.9"
  }
 },
 "nbformat": 4,
 "nbformat_minor": 2
}
